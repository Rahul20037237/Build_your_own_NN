{
  "nbformat": 4,
  "nbformat_minor": 0,
  "metadata": {
    "colab": {
      "provenance": [],
      "mount_file_id": "1vGaTcMeU4LyzZpxvOE9B2W7TahrT8veQ",
      "authorship_tag": "ABX9TyN2ktK/Rv54MWN5oOZecK2Q",
      "include_colab_link": true
    },
    "kernelspec": {
      "name": "python3",
      "display_name": "Python 3"
    },
    "language_info": {
      "name": "python"
    }
  },
  "cells": [
    {
      "cell_type": "markdown",
      "metadata": {
        "id": "view-in-github",
        "colab_type": "text"
      },
      "source": [
        "<a href=\"https://colab.research.google.com/github/Rahul20037237/Build_your_own_NN/blob/main/Vit_Transformer.ipynb\" target=\"_parent\"><img src=\"https://colab.research.google.com/assets/colab-badge.svg\" alt=\"Open In Colab\"/></a>"
      ]
    },
    {
      "cell_type": "code",
      "execution_count": null,
      "metadata": {
        "colab": {
          "base_uri": "https://localhost:8080/"
        },
        "id": "-MK6OI0uQDPi",
        "outputId": "db9abb5d-7222-4351-dc27-fa00d0343d5c"
      },
      "outputs": [
        {
          "output_type": "stream",
          "name": "stdout",
          "text": [
            "Num GPUs Available: 1\n"
          ]
        }
      ],
      "source": [
        "import tensorflow as tf\n",
        "print(\"Num GPUs Available:\", len(tf.config.list_physical_devices('GPU')))"
      ]
    },
    {
      "cell_type": "code",
      "source": [
        "from tensorflow import keras\n",
        "from tensorflow.keras.optimizers import Adam\n",
        "from tensorflow.keras.callbacks import EarlyStopping\n",
        "from tensorflow.keras import layers,Sequential\n",
        "import tensorflow as tf\n",
        "from PIL import Image\n",
        "import timeit\n",
        "from matplotlib import pyplot as plt"
      ],
      "metadata": {
        "id": "ynNxFUqYQcoc"
      },
      "execution_count": null,
      "outputs": []
    },
    {
      "cell_type": "code",
      "source": [
        "import tensorflow as tf\n",
        "from tensorflow.keras import layers\n",
        "\n",
        "# Patch Embedding Layer\n",
        "class PatchEmbedding(layers.Layer):\n",
        "    def __init__(self, patch_size=16, embed_size=768, img_size=224):\n",
        "        super().__init__()\n",
        "        self.proj = layers.Conv2D(embed_size, kernel_size=patch_size, strides=patch_size, padding=\"VALID\", use_bias=False)\n",
        "        self.patch_size = patch_size\n",
        "        self.embed_size = embed_size\n",
        "        self.num_patches = (img_size // patch_size) ** 2\n",
        "        self.cls_token = self.add_weight(\n",
        "            shape=(1, 1, embed_size),\n",
        "            initializer=\"zeros\",\n",
        "            trainable=True,\n",
        "            name=\"cls_token\"\n",
        "        )\n",
        "        self.pos_embedding = self.add_weight(\n",
        "            shape=(1, self.num_patches + 1, embed_size),\n",
        "            initializer=\"random_normal\",\n",
        "            trainable=True,\n",
        "            name=\"pos_embedding\"\n",
        "        )\n",
        "\n",
        "    def call(self, inputs):\n",
        "        batch_size = tf.shape(inputs)[0]\n",
        "        patches = self.proj(inputs)\n",
        "        patches = tf.reshape(patches, [batch_size, -1, self.embed_size])\n",
        "        cls_token = tf.broadcast_to(self.cls_token, [batch_size, 1, self.embed_size])\n",
        "        patches = tf.concat([cls_token, patches], axis=1)\n",
        "        patches += self.pos_embedding\n",
        "        return patches\n",
        "\n",
        "# Transformer Encoder Block\n",
        "class TransferEncoder(layers.Layer):\n",
        "    def __init__(self, embed_size=768, num_heads=8):\n",
        "        super().__init__()\n",
        "        self.norm1 = layers.LayerNormalization()\n",
        "        self.attention = layers.MultiHeadAttention(num_heads=num_heads, key_dim=embed_size)\n",
        "        self.dropout1 = layers.Dropout(0.1)\n",
        "        self.add1 = layers.Add()\n",
        "        self.norm2 = layers.LayerNormalization()\n",
        "        self.dense = layers.Dense(embed_size, activation=\"relu\")\n",
        "        self.dropout2 = layers.Dropout(0.1)\n",
        "        self.add2 = layers.Add()\n",
        "\n",
        "    def call(self, x):\n",
        "        attn_output = self.attention(x, x, x)\n",
        "        attn_output = self.dropout1(attn_output)\n",
        "        x = self.add1([x, attn_output])\n",
        "        x = self.norm1(x)\n",
        "        dense_output = self.dense(x)\n",
        "        dense_output = self.dropout2(dense_output)\n",
        "        x = self.add2([x, dense_output])\n",
        "        x = self.norm2(x)\n",
        "        return x\n",
        "\n",
        "# Transformer Encoder Stack\n",
        "class TransformerEncoder(layers.Layer):\n",
        "    def __init__(self, embed_size, num_heads, depth):\n",
        "        super().__init__()\n",
        "        self.encoder_layers = [\n",
        "            TransferEncoder(embed_size, num_heads) for _ in range(depth)\n",
        "        ]\n",
        "\n",
        "    def call(self, x):\n",
        "        for layer in self.encoder_layers:\n",
        "            x = layer(x)\n",
        "        return x\n",
        "\n",
        "# Classification Head\n",
        "class ClassificationHead(layers.Layer):\n",
        "    def __init__(self, emb_size: int = 768, n_classes: int = 100):\n",
        "        super().__init__()\n",
        "        self.pool = layers.GlobalAveragePooling1D()\n",
        "        self.norm = layers.LayerNormalization(epsilon=1e-6, name=\"layer_norm\")\n",
        "        self.dense = layers.Dense(n_classes)\n",
        "\n",
        "    def call(self, x):\n",
        "        x = self.pool(x)\n",
        "        x = self.norm(x)\n",
        "        x = self.dense(x)\n",
        "        return x\n",
        "\n",
        "# Vision Transformer Model\n",
        "class ViT(tf.keras.Model):\n",
        "    def __init__(self, in_channels: int = 3, patch_size: int = 16, emb_size: int = 768, img_size: int = 224, depth: int = 12, n_classes: int = 100):\n",
        "        super(ViT, self).__init__()\n",
        "        self.patch_embedding = PatchEmbedding(patch_size, emb_size, img_size)\n",
        "        self.transformer_encoder = TransformerEncoder(emb_size, num_heads=8, depth=depth)\n",
        "        self.classification_head = ClassificationHead(emb_size, n_classes)\n",
        "\n",
        "    def call(self, inputs):\n",
        "        x = self.patch_embedding(inputs)\n",
        "        x = self.transformer_encoder(x)\n",
        "        x = self.classification_head(x)\n",
        "        return x\n",
        "\n",
        "class WarmupCosineDecayScheduler(tf.keras.optimizers.schedules.LearningRateSchedule):\n",
        "    def __init__(self, initial_lr, decay_steps, warmup_steps):\n",
        "        super().__init__()\n",
        "        self.initial_lr = initial_lr\n",
        "        self.decay_steps = decay_steps\n",
        "        self.warmup_steps = warmup_steps\n",
        "        self.cosine_decay = tf.keras.optimizers.schedules.CosineDecay(initial_lr, decay_steps)\n",
        "\n",
        "    def __call__(self, step):\n",
        "        step = tf.cast(step, tf.float32)\n",
        "        warmup_lr = self.initial_lr * (step / tf.cast(self.warmup_steps, tf.float32))\n",
        "        cosine_lr = self.cosine_decay(step - self.warmup_steps)\n",
        "        return tf.where(step < self.warmup_steps, warmup_lr, cosine_lr)"
      ],
      "metadata": {
        "id": "fVZ_zaZdW_20"
      },
      "execution_count": null,
      "outputs": []
    },
    {
      "cell_type": "code",
      "source": [
        "def get_optimizer():\n",
        "    lr_schedule = WarmupCosineDecayScheduler(initial_lr=1e-4, decay_steps=10000, warmup_steps=1000)\n",
        "    return tf.keras.optimizers.AdamW(learning_rate=lr_schedule, weight_decay=1e-4)\n",
        "def preprocess_data(image, label):\n",
        "    image = tf.image.resize(image, (112, 112))  # Halved from 224x224\n",
        "    image = image / 255.0\n",
        "    return image, label\n",
        "\n",
        "def prepare_dataset(dataset, batch_size):\n",
        "    return (dataset\n",
        "            .map(preprocess_data)\n",
        "            .cache()\n",
        "            .shuffle(1000)\n",
        "            .batch(batch_size)\n",
        "            .prefetch(tf.data.AUTOTUNE))"
      ],
      "metadata": {
        "id": "434KuGEzMkit"
      },
      "execution_count": null,
      "outputs": []
    },
    {
      "cell_type": "code",
      "source": [
        "(x_train, y_train), (x_test, y_test) = tf.keras.datasets.cifar100.load_data()\n",
        "train_dataset = tf.data.Dataset.from_tensor_slices((x_train, y_train))\n",
        "test_dataset = tf.data.Dataset.from_tensor_slices((x_test, y_test))\n",
        "train_dataset = prepare_dataset(train_dataset, batch_size=32)\n",
        "test_dataset = prepare_dataset(test_dataset, batch_size=32)\n",
        "\n",
        "# Initialize Model\n",
        "vit = ViT(patch_size=16, emb_size=512, img_size=112, depth=8, n_classes=100)\n",
        "optimizer = get_optimizer()\n",
        "loss_fn = tf.keras.losses.SparseCategoricalCrossentropy(from_logits=True)\n",
        "\n",
        "# Compile Model\n",
        "vit.compile(optimizer=optimizer, loss=loss_fn, metrics=[\"accuracy\"])\n",
        "\n",
        "# Train Model\n",
        "vit.fit(train_dataset, validation_data=test_dataset, epochs=20)"
      ],
      "metadata": {
        "colab": {
          "base_uri": "https://localhost:8080/"
        },
        "id": "0amA_kle6qPA",
        "outputId": "620abc30-2f96-4bf3-8446-d5f1b7437df9"
      },
      "execution_count": null,
      "outputs": [
        {
          "output_type": "stream",
          "name": "stdout",
          "text": [
            "Epoch 1/20\n",
            "\u001b[1m   4/1563\u001b[0m \u001b[37m━━━━━━━━━━━━━━━━━━━━\u001b[0m \u001b[1m14:08:26\u001b[0m 33s/step - accuracy: 0.0046 - loss: 5.4880"
          ]
        }
      ]
    },
    {
      "cell_type": "code",
      "source": [
        "import pandas as pd\n",
        "import numpy as np\n",
        "import re\n",
        "\n",
        "WFLW_annotations_path_train = '/content/drive/MyDrive/dataset/WFLW_annotations/list_98pt_rect_attr_train_test/list_98pt_rect_attr_train.txt'\n",
        "WFLW_annotations_path_test = '/content/drive/MyDrive/dataset/WFLW_annotations/list_98pt_rect_attr_train_test/list_98pt_rect_attr_test.txt'\n",
        "with open(WFLW_annotations_path_train, 'r') as f:\n",
        "    train_data = f.readlines()\n",
        "with open(WFLW_annotations_path_test, 'r') as f:\n",
        "    test_data = f.readlines()\n",
        "def process_data(data):\n",
        "    processed_data = []\n",
        "    for line in data:\n",
        "        parts = re.split(r'\\s+', line.strip())  # Split by whitespace\n",
        "        landmarks = np.array(parts[:196], dtype=np.float32)  # All but last are labels\n",
        "        bbox=np.array(parts[196:200],dtype=np.float32)\n",
        "        Attrib= np.array(parts[200:206],dtype=np.int32)  # Last part is the image path\n",
        "        image_name=parts[206]\n",
        "        processed_data.append((landmarks,bbox,Attrib,image_name))\n",
        "    return processed_data\n",
        "\n",
        "train_processed = process_data(train_data)\n",
        "test_processed = process_data(test_data)\n",
        "train_df=pd.DataFrame(train_processed, columns=['Landmarks','bbox','Attrib', 'ImagePath'])\n",
        "test_df=pd.DataFrame(test_processed, columns=['Landmarks','bbox','Attrib', 'ImagePath'])\n",
        "print(\"First row of training data:\")\n",
        "print(train_df.head(),train_df['Landmarks'][0].shape)\n",
        "print(train_df.shape,test_df.shape)"
      ],
      "metadata": {
        "colab": {
          "base_uri": "https://localhost:8080/"
        },
        "id": "5jozZSj8Xa0W",
        "outputId": "66087e2f-ff13-46a7-bdc0-585aa5b7eeac"
      },
      "execution_count": null,
      "outputs": [
        {
          "output_type": "stream",
          "name": "stdout",
          "text": [
            "First row of training data:\n",
            "                                           Landmarks  \\\n",
            "0  [309.307, 538.369, 317.85733, 560.12085, 322.2...   \n",
            "1  [579.003, 167.764, 579.68207, 179.84132, 580.3...   \n",
            "2  [249.128, 175.463, 249.33041, 188.4176, 249.39...   \n",
            "3  [812.989, 627.505, 813.7136, 633.25446, 814.45...   \n",
            "4  [507.288, 280.026, 507.36008, 288.5583, 507.74...   \n",
            "\n",
            "                           bbox              Attrib  \\\n",
            "0  [306.0, 308.0, 696.0, 870.0]  [0, 0, 1, 0, 0, 0]   \n",
            "1   [586.0, 73.0, 746.0, 317.0]  [0, 0, 1, 0, 0, 0]   \n",
            "2  [260.0, 104.0, 420.0, 330.0]  [0, 0, 1, 0, 0, 0]   \n",
            "3  [809.0, 582.0, 901.0, 697.0]  [0, 0, 0, 0, 0, 1]   \n",
            "4  [503.0, 212.0, 632.0, 379.0]  [0, 0, 0, 0, 0, 1]   \n",
            "\n",
            "                                           ImagePath  \n",
            "0     51--Dresses/51_Dresses_wearingdress_51_377.jpg  \n",
            "1             19--Couple/19_Couple_Couple_19_340.jpg  \n",
            "2  15--Stock_Market/15_Stock_Market_Stock_Market_...  \n",
            "3       44--Aerobics/44_Aerobics_Aerobics_44_543.jpg  \n",
            "4  5--Car_Accident/5_Car_Accident_Accident_5_938.jpg   (196,)\n",
            "(7500, 4) (2500, 4)\n"
          ]
        }
      ]
    },
    {
      "cell_type": "code",
      "source": [
        "import tensorflow as tf\n",
        "import os\n",
        "import numpy as np\n",
        "from PIL import Image, ImageDraw\n",
        "import matplotlib.pyplot as plt\n",
        "\n",
        "# Preprocessing function\n",
        "def preprocess(file_path, landmark,attrib):\n",
        "    # Load and decode the image\n",
        "    img = tf.io.read_file(file_path)\n",
        "    img = tf.image.decode_jpeg(img, channels=3)\n",
        "    h, w = tf.shape(img)[0], tf.shape(img)[1]\n",
        "\n",
        "    # Resize the image to 224x224\n",
        "    img = tf.image.resize(img, [224, 224])\n",
        "    img = img / 255.0  # Normalize the image to [0, 1]\n",
        "\n",
        "    # Scale landmarks based on original image size\n",
        "    original_shape = tf.shape(landmark)  # Save the original shape\n",
        "    landmark = tf.reshape(landmark, (-1, 2))  # Reshape to (num_landmarks, 2)\n",
        "\n",
        "    scaling_factors = tf.convert_to_tensor([224 / tf.cast(w, tf.float32), 224 / tf.cast(h, tf.float32)])\n",
        "    landmark = landmark * scaling_factors  # Scale landmarks to the new image size\n",
        "\n",
        "    # Reshape landmarks back to the original shape\n",
        "    # landmark = tf.reshape(landmark, original_shape)\n",
        "\n",
        "    return img, landmark/255,attrib\n",
        "\n",
        "# Loading data function\n",
        "def load_data(dir, annotation):\n",
        "    image_paths = [os.path.join(dir, path) for path in annotation['ImagePath'].tolist()]\n",
        "    landmarks = tf.ragged.constant(annotation['Landmarks'].values.tolist(), dtype=tf.float32)\n",
        "    attributes = tf.convert_to_tensor(annotation['Attrib'].values.tolist(), dtype=tf.int32)\n",
        "\n",
        "    # Create TensorFlow dataset\n",
        "    dataset = tf.data.Dataset.from_tensor_slices((image_paths, landmarks, attributes))\n",
        "    dataset = dataset.map(preprocess, num_parallel_calls=tf.data.AUTOTUNE)\n",
        "    dataset = dataset.map(lambda image, landmark, attrib: (image, tf.convert_to_tensor(landmark, dtype=tf.float32), attrib))\n",
        "\n",
        "    batch_size = 16\n",
        "    dataset = dataset.batch(batch_size).prefetch(tf.data.AUTOTUNE)\n",
        "\n",
        "    return dataset\n",
        "\n",
        "# Example Usage\n",
        "img_dir = '/content/drive/MyDrive/dataset/WFLW_images'\n",
        "\n",
        "# Assuming `train_df` and `test_df` are pandas DataFrames with required annotations\n",
        "dataset = load_data(img_dir, train_df)\n",
        "test_dataset = load_data(img_dir, test_df)\n",
        "\n",
        "# Check the shape of a batch\n",
        "for i, j,k in dataset.take(1):  # Take one batch\n",
        "    print(i.shape, j.shape,k.shape)  # (images, landmarks, attributes)"
      ],
      "metadata": {
        "colab": {
          "base_uri": "https://localhost:8080/"
        },
        "id": "rJynPpamXmn1",
        "outputId": "89de8357-418f-4dce-d4b2-a6fc4a07f3db"
      },
      "execution_count": null,
      "outputs": [
        {
          "output_type": "stream",
          "name": "stdout",
          "text": [
            "(16, 224, 224, 3) (16, 98, 2) (16, 6)\n"
          ]
        }
      ]
    },
    {
      "cell_type": "code",
      "source": [
        "for images, landmarks, bboxes, attributes in dataset.take(1):\n",
        "    # Convert the image to uint8 for visualization\n",
        "    img_array = np.uint8(images[0].numpy() * 255)\n",
        "    image = Image.fromarray(img_array)  # Convert to PIL Image\n",
        "\n",
        "    # Draw the bounding box on the image\n",
        "    draw = ImageDraw.Draw(image)\n",
        "    bbox = bboxes[0].numpy()\n",
        "    s = ((bbox[0], bbox[1]), (bbox[2], bbox[3]))  # Define rectangle coordinates (top-left, bottom-right)\n",
        "    draw.rectangle(s, outline=\"red\", width=3)\n",
        "\n",
        "    # Plot the landmarks on the image\n",
        "    for (x, y) in landmarks[0].numpy():\n",
        "        # Draw a small circle for each landmark\n",
        "        draw.ellipse([x - 2, y - 2, x + 2, y + 2], fill='blue', outline='blue')\n",
        "\n",
        "    # Display the image with bounding box and landmarks\n",
        "    plt.imshow(image)\n",
        "    plt.axis(\"off\")\n",
        "    plt.show()\n",
        "\n",
        "    # Print the bounding box and landmarks\n",
        "    print(f\"BBox: {bboxes[0]}\")\n",
        "    print(f\"Landmarks: {landmarks[0]}\")\n",
        "\n",
        "    # Print dataset shapes\n",
        "    print(f\"Images shape: {images.shape}\")  # Example: (batch_size, 224, 224, 3)\n",
        "    print(f\"Landmarks shape: {landmarks.shape}\")\n",
        "    print(f\"BBox shape: {bboxes.shape}\")\n",
        "    print(f\"Attributes shape: {attributes.shape}\")"
      ],
      "metadata": {
        "id": "-AHtY5CY8382"
      },
      "execution_count": null,
      "outputs": []
    },
    {
      "cell_type": "code",
      "source": [
        "import timeit\n",
        "import tensorflow as tf\n",
        "timeit.timeit()\n",
        "img_path = \"/content/gratisography-cool-cat-800x525.jpg\"\n",
        "img = tf.keras.preprocessing.image.load_img(img_path)\n",
        "img_array = tf.keras.preprocessing.image.img_to_array(img)\n",
        "img_array = tf.image.resize(img_array, [224, 224])\n",
        "img_array = tf.expand_dims(img_array, 0)\n",
        "print(img_array.shape)\n",
        "patch_emb=PatchEmbedding()(img_array)\n",
        "print(patch_emb.shape)"
      ],
      "metadata": {
        "colab": {
          "base_uri": "https://localhost:8080/"
        },
        "id": "Lkbkw5ufQhhf",
        "outputId": "84809f84-3003-4d62-bf91-e1e36296290d"
      },
      "execution_count": null,
      "outputs": [
        {
          "output_type": "stream",
          "name": "stdout",
          "text": [
            "(1, 224, 224, 3)\n",
            "(1, 197, 768)\n"
          ]
        }
      ]
    },
    {
      "cell_type": "code",
      "source": [
        "class PatchEmbedding(layers.Layer):\n",
        "    def __init__(self, patch_size=16, embed_size=768,img_size=224):\n",
        "        super().__init__()\n",
        "        self.proj = layers.Conv2D(embed_size, kernel_size=patch_size, strides=patch_size, padding=\"VALID\", use_bias=False) #output layer formula :((n+2p-k)/s)+1\n",
        "        self.patch_size = patch_size\n",
        "        self.embed_size = embed_size\n",
        "        self.num_patches = (img_size // patch_size) ** 2\n",
        "        self.cls_token = self.add_weight(\n",
        "            shape=(1, 1, embed_size),\n",
        "            initializer=\"zeros\",\n",
        "            trainable=True,\n",
        "            name=\"cls_token\"\n",
        "        )\n",
        "        self.pos_embedding = self.add_weight(\n",
        "            shape=(1, self.num_patches + 1, embed_size),\n",
        "            initializer=\"random_normal\",\n",
        "            trainable=True,\n",
        "            name=\"pos_embedding\"\n",
        "        )\n",
        "\n",
        "    def call(self, inputs):\n",
        "        batch_size = tf.shape(inputs)[0]\n",
        "        patches = self.proj(inputs)\n",
        "        patches = tf.reshape(patches, [batch_size, -1, self.embed_size])\n",
        "        cls_token = tf.broadcast_to(self.cls_token, [batch_size, 1, self.embed_size])\n",
        "        patches = tf.concat([cls_token, patches], axis=1)\n",
        "        patches += self.pos_embedding\n",
        "        return patches"
      ],
      "metadata": {
        "id": "wGbY83O0QfIy"
      },
      "execution_count": null,
      "outputs": []
    },
    {
      "cell_type": "code",
      "source": [
        "class TransferEncoder(layers.Layer):\n",
        "    def __init__(self, embed_size=768, num_heads=8, depth=12):\n",
        "        super().__init__()\n",
        "        self.embed_size = embed_size\n",
        "        self.num_heads = num_heads\n",
        "        self.depth = depth\n",
        "        self.norm1 = layers.LayerNormalization()\n",
        "        self.attention = layers.MultiHeadAttention(num_heads=num_heads, key_dim=embed_size)\n",
        "        self.dropout1 = layers.Dropout(0.1)\n",
        "        self.add1 = layers.Add()\n",
        "        self.norm2 = layers.LayerNormalization()\n",
        "        self.dense = layers.Dense(embed_size, activation=\"relu\")\n",
        "        self.dropout2 = layers.Dropout(0.1)\n",
        "        self.add2 = layers.Add()\n",
        "    def build(self,x):\n",
        "        self.build=True\n",
        "\n",
        "    def call(self,x):\n",
        "        attn_output = self.attention(x, x, x)\n",
        "        attn_output = self.dropout1(attn_output)\n",
        "        x = self.add1([x, attn_output])\n",
        "        x = self.norm1(x)\n",
        "        dense_output = self.dense(x)\n",
        "        dense_output = self.dropout2(dense_output)\n",
        "        x = self.add2([x, dense_output])\n",
        "        x = self.norm2(x)\n",
        "        return x"
      ],
      "metadata": {
        "id": "myJ2MwsfQtny"
      },
      "execution_count": null,
      "outputs": []
    },
    {
      "cell_type": "code",
      "source": [
        "class TransformerEncoder(layers.Layer):\n",
        "    def __init__(self, embed_size, num_heads, depth):\n",
        "        super().__init__()\n",
        "        self.encoder_layers = [\n",
        "            TransferEncoder(embed_size, num_heads) for _ in range(depth)\n",
        "        ]\n",
        "\n",
        "    def call(self, x):\n",
        "        for layer in self.encoder_layers:\n",
        "            x = layer(x)\n",
        "        return x\n",
        "tt=TransferEncoder()(patch_emb)\n",
        "tt.shape"
      ],
      "metadata": {
        "id": "EwrQWUvsQwdI",
        "colab": {
          "base_uri": "https://localhost:8080/"
        },
        "outputId": "169e9806-2af2-461a-c219-bdd05d680fb5"
      },
      "execution_count": null,
      "outputs": [
        {
          "output_type": "execute_result",
          "data": {
            "text/plain": [
              "TensorShape([1, 197, 768])"
            ]
          },
          "metadata": {},
          "execution_count": 100
        }
      ]
    },
    {
      "cell_type": "code",
      "source": [
        "\n",
        "class ClassificationHead(layers.Layer):\n",
        "    def __init__(self, n_classes: int = 1000):\n",
        "        super().__init__()\n",
        "        self.model = Sequential([\n",
        "            layers.Lambda(lambda x: tf.reduce_mean(x, axis=1)),\n",
        "            layers.LayerNormalization(epsilon=1e-6, name=\"layer_norm\"),\n",
        "            layers.Dense(n_classes)\n",
        "        ])\n",
        "\n",
        "    def call(self, x):\n",
        "        return self.model(x)"
      ],
      "metadata": {
        "id": "_2Y9a5M19NC1"
      },
      "execution_count": null,
      "outputs": []
    },
    {
      "cell_type": "code",
      "source": [
        "class ViT(tf.keras.Model):\n",
        "    def __init__(self, in_channels: int = 3, patch_size: int = 16, emb_size: int = 768, img_size: int = 224, depth: int = 12, n_classes: int = 1000, **kwargs):\n",
        "        super(ViT, self).__init__(**kwargs)\n",
        "        self.patch_embedding = PatchEmbedding(in_channels, patch_size, emb_size, img_size)\n",
        "        self.transformer_encoder = TransformerEncoder(emb_size, num_heads=8, depth=depth)\n",
        "        self.classification_head = ClassificationHead(emb_size, n_classes)\n",
        "\n",
        "    def call(self, inputs):\n",
        "        x = self.patch_embedding(inputs)\n",
        "        x = self.transformer_encoder(x)\n",
        "        x = self.classification_head(x)\n",
        "        return x"
      ],
      "metadata": {
        "id": "Gn8CNUGsWWMA"
      },
      "execution_count": null,
      "outputs": []
    },
    {
      "cell_type": "code",
      "source": [],
      "metadata": {
        "id": "xoUzanlfMl9R"
      },
      "execution_count": null,
      "outputs": []
    }
  ]
}