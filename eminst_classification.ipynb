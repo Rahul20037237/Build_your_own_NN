{
  "metadata": {
    "kernelspec": {
      "language": "python",
      "display_name": "Python 3",
      "name": "python3"
    },
    "language_info": {
      "name": "python",
      "version": "3.10.12",
      "mimetype": "text/x-python",
      "codemirror_mode": {
        "name": "ipython",
        "version": 3
      },
      "pygments_lexer": "ipython3",
      "nbconvert_exporter": "python",
      "file_extension": ".py"
    },
    "kaggle": {
      "accelerator": "nvidiaTeslaT4",
      "dataSources": [
        {
          "sourceId": 10705,
          "sourceType": "datasetVersion",
          "datasetId": 7160
        },
        {
          "sourceId": 10526803,
          "sourceType": "datasetVersion",
          "datasetId": 6514979
        }
      ],
      "dockerImageVersionId": 30839,
      "isInternetEnabled": true,
      "language": "python",
      "sourceType": "notebook",
      "isGpuEnabled": true
    },
    "colab": {
      "name": "eminst_classification",
      "provenance": [],
      "include_colab_link": true
    }
  },
  "nbformat_minor": 0,
  "nbformat": 4,
  "cells": [
    {
      "cell_type": "markdown",
      "metadata": {
        "id": "view-in-github",
        "colab_type": "text"
      },
      "source": [
        "<a href=\"https://colab.research.google.com/github/Rahul20037237/Build_your_own_NN/blob/main/eminst_classification.ipynb\" target=\"_parent\"><img src=\"https://colab.research.google.com/assets/colab-badge.svg\" alt=\"Open In Colab\"/></a>"
      ]
    },
    {
      "source": [
        "# IMPORTANT: SOME KAGGLE DATA SOURCES ARE PRIVATE\n",
        "# RUN THIS CELL IN ORDER TO IMPORT YOUR KAGGLE DATA SOURCES.\n",
        "import kagglehub\n",
        "kagglehub.login()\n"
      ],
      "metadata": {
        "id": "YhuaOh86DhmV"
      },
      "cell_type": "code",
      "outputs": [],
      "execution_count": null
    },
    {
      "source": [
        "# IMPORTANT: RUN THIS CELL IN ORDER TO IMPORT YOUR KAGGLE DATA SOURCES,\n",
        "# THEN FEEL FREE TO DELETE THIS CELL.\n",
        "# NOTE: THIS NOTEBOOK ENVIRONMENT DIFFERS FROM KAGGLE'S PYTHON\n",
        "# ENVIRONMENT SO THERE MAY BE MISSING LIBRARIES USED BY YOUR\n",
        "# NOTEBOOK.\n",
        "\n",
        "crawford_emnist_path = kagglehub.dataset_download('crawford/emnist')\n",
        "rahula7237_prediction_data_path = kagglehub.dataset_download('rahula7237/prediction-data')\n",
        "\n",
        "print('Data source import complete.')\n"
      ],
      "metadata": {
        "id": "hq1RGRXEDhmY"
      },
      "cell_type": "code",
      "outputs": [],
      "execution_count": null
    },
    {
      "cell_type": "code",
      "source": [
        "import tensorflow.keras.layers as L\n",
        "from tensorflow.keras import Sequential\n",
        "import tensorflow as tf\n",
        "import pandas as pd\n",
        "import numpy as np"
      ],
      "metadata": {
        "trusted": true,
        "execution": {
          "iopub.status.busy": "2025-01-20T12:47:08.058027Z",
          "iopub.execute_input": "2025-01-20T12:47:08.058353Z",
          "iopub.status.idle": "2025-01-20T12:47:21.41281Z",
          "shell.execute_reply.started": "2025-01-20T12:47:08.058324Z",
          "shell.execute_reply": "2025-01-20T12:47:21.411782Z"
        },
        "id": "jqBiKmSxDhmZ"
      },
      "outputs": [],
      "execution_count": null
    },
    {
      "cell_type": "code",
      "source": [
        "import kagglehub\n",
        "\n",
        "# Download latest version\n",
        "path = kagglehub.dataset_download(\"crawford/emnist\")\n",
        "\n",
        "print(\"Path to dataset files:\", path)"
      ],
      "metadata": {
        "trusted": true,
        "execution": {
          "iopub.status.busy": "2025-01-20T12:47:26.29144Z",
          "iopub.execute_input": "2025-01-20T12:47:26.292075Z",
          "iopub.status.idle": "2025-01-20T12:47:27.168292Z",
          "shell.execute_reply.started": "2025-01-20T12:47:26.292044Z",
          "shell.execute_reply": "2025-01-20T12:47:27.167512Z"
        },
        "id": "Xuwewg33Dhma",
        "outputId": "9d1167d6-f4cb-47c6-ad56-adeb85292693"
      },
      "outputs": [
        {
          "name": "stdout",
          "text": "Path to dataset files: /kaggle/input/emnist\n",
          "output_type": "stream"
        }
      ],
      "execution_count": null
    },
    {
      "cell_type": "code",
      "source": [
        "train = pd.read_csv(\"/kaggle/input/emnist/emnist-byclass-train.csv\",delimiter = ',')\n",
        "test = pd.read_csv(\"/kaggle/input/emnist/emnist-byclass-test.csv\", delimiter = ',')\n",
        "mapp = pd.read_csv(\"/kaggle/input/emnist/emnist-byclass-mapping.txt\", delimiter = ' ', index_col=0, header=None)"
      ],
      "metadata": {
        "trusted": true,
        "execution": {
          "iopub.status.busy": "2025-01-20T12:47:28.604984Z",
          "iopub.execute_input": "2025-01-20T12:47:28.605297Z",
          "iopub.status.idle": "2025-01-20T12:48:26.094454Z",
          "shell.execute_reply.started": "2025-01-20T12:47:28.605274Z",
          "shell.execute_reply": "2025-01-20T12:48:26.09343Z"
        },
        "id": "so0BoQnWDhmb"
      },
      "outputs": [],
      "execution_count": null
    },
    {
      "cell_type": "code",
      "source": [
        "train_x = train.iloc[:,1:]\n",
        "train_y = train.iloc[:,0]\n",
        "\n",
        "test_x = test.iloc[:,1:]\n",
        "test_y = test.iloc[:,0]\n",
        "print(train_x.shape,train_y.shape,test_x.shape,test_y.shape)"
      ],
      "metadata": {
        "trusted": true,
        "execution": {
          "iopub.status.busy": "2025-01-20T12:48:26.095801Z",
          "iopub.execute_input": "2025-01-20T12:48:26.09613Z",
          "iopub.status.idle": "2025-01-20T12:48:26.103493Z",
          "shell.execute_reply.started": "2025-01-20T12:48:26.096101Z",
          "shell.execute_reply": "2025-01-20T12:48:26.102542Z"
        },
        "id": "b-wNMMBzDhmb",
        "outputId": "a534a176-874b-491d-94a4-487944ba8144"
      },
      "outputs": [
        {
          "name": "stdout",
          "text": "(697931, 784) (697931,) (116322, 784) (116322,)\n",
          "output_type": "stream"
        }
      ],
      "execution_count": null
    },
    {
      "cell_type": "code",
      "source": [
        "train_x = train_x.values.reshape(-1, 28, 28, 1)\n",
        "test_x = test_x.values.reshape(-1, 28, 28, 1)\n",
        "print(train_x.shape,train_y.shape,test_x.shape,test_y.shape)"
      ],
      "metadata": {
        "trusted": true,
        "execution": {
          "iopub.status.busy": "2025-01-20T12:48:26.105299Z",
          "iopub.execute_input": "2025-01-20T12:48:26.10563Z",
          "iopub.status.idle": "2025-01-20T12:48:26.127586Z",
          "shell.execute_reply.started": "2025-01-20T12:48:26.105605Z",
          "shell.execute_reply": "2025-01-20T12:48:26.12679Z"
        },
        "id": "2ZtbPuvtDhmc",
        "outputId": "12b470ea-d2b4-4123-ed5f-56b8cc7f61d6"
      },
      "outputs": [
        {
          "name": "stdout",
          "text": "(697931, 28, 28, 1) (697931,) (116322, 28, 28, 1) (116322,)\n",
          "output_type": "stream"
        }
      ],
      "execution_count": null
    },
    {
      "cell_type": "code",
      "source": [
        "train_x = train_x / 255.0\n",
        "test_x = test_x / 255.0\n"
      ],
      "metadata": {
        "trusted": true,
        "execution": {
          "iopub.status.busy": "2025-01-20T12:48:26.128941Z",
          "iopub.execute_input": "2025-01-20T12:48:26.12929Z",
          "iopub.status.idle": "2025-01-20T12:48:28.050404Z",
          "shell.execute_reply.started": "2025-01-20T12:48:26.129267Z",
          "shell.execute_reply": "2025-01-20T12:48:28.049744Z"
        },
        "id": "HDqKRXwNDhmc"
      },
      "outputs": [],
      "execution_count": null
    },
    {
      "cell_type": "code",
      "source": [
        "train_dataset = tf.data.Dataset.from_tensor_slices((train_x.astype(\"float32\"), train_y))\n",
        "test_dataset = tf.data.Dataset.from_tensor_slices((test_x.astype(\"float32\"), test_y))"
      ],
      "metadata": {
        "trusted": true,
        "execution": {
          "iopub.status.busy": "2025-01-20T12:48:28.051141Z",
          "iopub.execute_input": "2025-01-20T12:48:28.051357Z",
          "iopub.status.idle": "2025-01-20T12:48:36.626172Z",
          "shell.execute_reply.started": "2025-01-20T12:48:28.05134Z",
          "shell.execute_reply": "2025-01-20T12:48:36.625155Z"
        },
        "id": "pwfkSAh0Dhmd"
      },
      "outputs": [],
      "execution_count": null
    },
    {
      "cell_type": "code",
      "source": [
        "print(train_dataset.element_spec)\n",
        "print(test_dataset.element_spec)"
      ],
      "metadata": {
        "trusted": true,
        "execution": {
          "iopub.status.busy": "2025-01-20T12:48:36.627042Z",
          "iopub.execute_input": "2025-01-20T12:48:36.627369Z",
          "iopub.status.idle": "2025-01-20T12:48:36.632238Z",
          "shell.execute_reply.started": "2025-01-20T12:48:36.627333Z",
          "shell.execute_reply": "2025-01-20T12:48:36.631139Z"
        },
        "id": "RUd_XtRuDhmd",
        "outputId": "f350c2e9-5589-427f-85c1-38505675d273"
      },
      "outputs": [
        {
          "name": "stdout",
          "text": "(TensorSpec(shape=(28, 28, 1), dtype=tf.float32, name=None), TensorSpec(shape=(), dtype=tf.int64, name=None))\n(TensorSpec(shape=(28, 28, 1), dtype=tf.float32, name=None), TensorSpec(shape=(), dtype=tf.int64, name=None))\n",
          "output_type": "stream"
        }
      ],
      "execution_count": null
    },
    {
      "cell_type": "code",
      "source": [
        "def augementation(img,label):\n",
        "    num_classes=62\n",
        "    img=tf.image.flip_left_right(img)\n",
        "    img=tf.image.rot90(img)\n",
        "    # label = tf.one_hot(label, depth=num_classes)\n",
        "    return img,label"
      ],
      "metadata": {
        "trusted": true,
        "execution": {
          "iopub.status.busy": "2025-01-20T12:48:36.633108Z",
          "iopub.execute_input": "2025-01-20T12:48:36.633356Z",
          "iopub.status.idle": "2025-01-20T12:48:36.6506Z",
          "shell.execute_reply.started": "2025-01-20T12:48:36.633336Z",
          "shell.execute_reply": "2025-01-20T12:48:36.649838Z"
        },
        "id": "-a0cH5JmDhmd"
      },
      "outputs": [],
      "execution_count": null
    },
    {
      "cell_type": "code",
      "source": [
        "\n",
        "train_dataset = (\n",
        "    train_dataset\n",
        "    .map(augementation, num_parallel_calls=tf.data.AUTOTUNE)\n",
        "    .shuffle(buffer_size=1024)\n",
        "    .batch(32)\n",
        "    .prefetch(tf.data.AUTOTUNE)\n",
        ")"
      ],
      "metadata": {
        "trusted": true,
        "execution": {
          "iopub.status.busy": "2025-01-20T12:48:36.652828Z",
          "iopub.execute_input": "2025-01-20T12:48:36.65304Z",
          "iopub.status.idle": "2025-01-20T12:48:36.779006Z",
          "shell.execute_reply.started": "2025-01-20T12:48:36.653014Z",
          "shell.execute_reply": "2025-01-20T12:48:36.778215Z"
        },
        "id": "NvUU8VlYDhme"
      },
      "outputs": [],
      "execution_count": null
    },
    {
      "cell_type": "code",
      "source": [
        "test_dataset=(\n",
        "    test_dataset\n",
        "    .batch(32)\n",
        "    .prefetch(tf.data.AUTOTUNE)\n",
        ")"
      ],
      "metadata": {
        "trusted": true,
        "execution": {
          "iopub.status.busy": "2025-01-20T12:48:36.780071Z",
          "iopub.execute_input": "2025-01-20T12:48:36.780348Z",
          "iopub.status.idle": "2025-01-20T12:48:36.786435Z",
          "shell.execute_reply.started": "2025-01-20T12:48:36.780328Z",
          "shell.execute_reply": "2025-01-20T12:48:36.785743Z"
        },
        "id": "HUTLLGbuDhme"
      },
      "outputs": [],
      "execution_count": null
    },
    {
      "cell_type": "code",
      "source": [
        "import matplotlib.pyplot as plt\n",
        "for i,l in train_dataset.take(1):\n",
        "    plt.imshow(i[1])\n",
        "    print(l[1])"
      ],
      "metadata": {
        "trusted": true,
        "execution": {
          "iopub.status.busy": "2025-01-20T12:48:36.787381Z",
          "iopub.execute_input": "2025-01-20T12:48:36.787645Z",
          "iopub.status.idle": "2025-01-20T12:48:39.313146Z",
          "shell.execute_reply.started": "2025-01-20T12:48:36.787624Z",
          "shell.execute_reply": "2025-01-20T12:48:39.312329Z"
        },
        "id": "WYxMEbT9Dhme",
        "outputId": "8c002e64-3d15-4860-d970-2e5deba2d586"
      },
      "outputs": [
        {
          "name": "stdout",
          "text": "tf.Tensor(0, shape=(), dtype=int64)\n",
          "output_type": "stream"
        },
        {
          "output_type": "display_data",
          "data": {
            "text/plain": "<Figure size 640x480 with 1 Axes>",
            "image/png": "[encoded data removed]"
          },
          "metadata": {}
        }
      ],
      "execution_count": null
    },
    {
      "cell_type": "code",
      "source": [
        "for i,j in test_dataset.take(1):\n",
        "    plt.imshow(i[0])\n",
        "    print(j[0])"
      ],
      "metadata": {
        "trusted": true,
        "execution": {
          "iopub.status.busy": "2025-01-20T12:48:39.313922Z",
          "iopub.execute_input": "2025-01-20T12:48:39.314152Z",
          "iopub.status.idle": "2025-01-20T12:48:39.560024Z",
          "shell.execute_reply.started": "2025-01-20T12:48:39.314133Z",
          "shell.execute_reply": "2025-01-20T12:48:39.558933Z"
        },
        "id": "cM3Yub93Dhme",
        "outputId": "033aab78-c5c0-49ce-aeeb-9936c228c6d9"
      },
      "outputs": [
        {
          "name": "stdout",
          "text": "tf.Tensor(36, shape=(), dtype=int64)\n",
          "output_type": "stream"
        },
        {
          "output_type": "display_data",
          "data": {
            "text/plain": "<Figure size 640x480 with 1 Axes>",
            "image/png": "[encoded data removed]"
          },
          "metadata": {}
        }
      ],
      "execution_count": null
    },
    {
      "cell_type": "code",
      "source": [
        "print(\"Num GPUs Available: \", len(tf.config.list_physical_devices('GPU')))"
      ],
      "metadata": {
        "trusted": true,
        "execution": {
          "iopub.status.busy": "2025-01-20T12:48:39.561279Z",
          "iopub.execute_input": "2025-01-20T12:48:39.561673Z",
          "iopub.status.idle": "2025-01-20T12:48:39.567369Z",
          "shell.execute_reply.started": "2025-01-20T12:48:39.561633Z",
          "shell.execute_reply": "2025-01-20T12:48:39.566155Z"
        },
        "id": "K3aHGtUrDhmf",
        "outputId": "dd640f4d-b426-4795-a36c-bfefd6034cfa"
      },
      "outputs": [
        {
          "name": "stdout",
          "text": "Num GPUs Available:  2\n",
          "output_type": "stream"
        }
      ],
      "execution_count": null
    },
    {
      "cell_type": "code",
      "source": [
        "num_classes=62\n",
        "model = Sequential()\n",
        "\n",
        "model.add(L.Conv2D(filters=128, kernel_size=(5,5), padding = 'same', activation='relu',input_shape=(28, 28,1)))\n",
        "model.add(L.MaxPooling2D(pool_size=(2,2), strides=(2,2)))\n",
        "model.add(L.Conv2D(filters=64, kernel_size=(3,3) , padding = 'same', activation='relu'))\n",
        "model.add(L.MaxPooling2D(pool_size=(2,2)))\n",
        "\n",
        "model.add(L.Flatten())\n",
        "model.add(L.Dense(units=128, activation='relu'))\n",
        "model.add(L.Dropout(.5))\n",
        "model.add(L.Dense(units=num_classes, activation='softmax'))\n",
        "\n",
        "model.summary()"
      ],
      "metadata": {
        "trusted": true,
        "execution": {
          "iopub.status.busy": "2025-01-20T12:48:39.568314Z",
          "iopub.execute_input": "2025-01-20T12:48:39.568605Z",
          "iopub.status.idle": "2025-01-20T12:48:41.154483Z",
          "shell.execute_reply.started": "2025-01-20T12:48:39.568575Z",
          "shell.execute_reply": "2025-01-20T12:48:41.153787Z"
        },
        "id": "Di71Ccw8Dhmf",
        "outputId": "dc0f7a98-f561-4ae5-e8b2-e22a112f755a"
      },
      "outputs": [
        {
          "name": "stderr",
          "text": "/usr/local/lib/python3.10/dist-packages/keras/src/layers/convolutional/base_conv.py:107: UserWarning: Do not pass an `input_shape`/`input_dim` argument to a layer. When using Sequential models, prefer using an `Input(shape)` object as the first layer in the model instead.\n  super().__init__(activity_regularizer=activity_regularizer, **kwargs)\n",
          "output_type": "stream"
        },
        {
          "output_type": "display_data",
          "data": {
            "text/plain": "\u001b[1mModel: \"sequential\"\u001b[0m\n",
            "text/html": "<pre style=\"white-space:pre;overflow-x:auto;line-height:normal;font-family:Menlo,'DejaVu Sans Mono',consolas,'Courier New',monospace\"><span style=\"font-weight: bold\">Model: \"sequential\"</span>\n</pre>\n"
          },
          "metadata": {}
        },
        {
          "output_type": "display_data",
          "data": {
            "text/plain": "┏━━━━━━━━━━━━━━━━━━━━━━━━━━━━━━━━━━━━━━┳━━━━━━━━━━━━━━━━━━━━━━━━━━━━━┳━━━━━━━━━━━━━━━━━┓\n┃\u001b[1m \u001b[0m\u001b[1mLayer (type)                        \u001b[0m\u001b[1m \u001b[0m┃\u001b[1m \u001b[0m\u001b[1mOutput Shape               \u001b[0m\u001b[1m \u001b[0m┃\u001b[1m \u001b[0m\u001b[1m        Param #\u001b[0m\u001b[1m \u001b[0m┃\n┡━━━━━━━━━━━━━━━━━━━━━━━━━━━━━━━━━━━━━━╇━━━━━━━━━━━━━━━━━━━━━━━━━━━━━╇━━━━━━━━━━━━━━━━━┩\n│ conv2d (\u001b[38;5;33mConv2D\u001b[0m)                      │ (\u001b[38;5;45mNone\u001b[0m, \u001b[38;5;34m28\u001b[0m, \u001b[38;5;34m28\u001b[0m, \u001b[38;5;34m128\u001b[0m)         │           \u001b[38;5;34m3,328\u001b[0m │\n├──────────────────────────────────────┼─────────────────────────────┼─────────────────┤\n│ max_pooling2d (\u001b[38;5;33mMaxPooling2D\u001b[0m)         │ (\u001b[38;5;45mNone\u001b[0m, \u001b[38;5;34m14\u001b[0m, \u001b[38;5;34m14\u001b[0m, \u001b[38;5;34m128\u001b[0m)         │               \u001b[38;5;34m0\u001b[0m │\n├──────────────────────────────────────┼─────────────────────────────┼─────────────────┤\n│ conv2d_1 (\u001b[38;5;33mConv2D\u001b[0m)                    │ (\u001b[38;5;45mNone\u001b[0m, \u001b[38;5;34m14\u001b[0m, \u001b[38;5;34m14\u001b[0m, \u001b[38;5;34m64\u001b[0m)          │          \u001b[38;5;34m73,792\u001b[0m │\n├──────────────────────────────────────┼─────────────────────────────┼─────────────────┤\n│ max_pooling2d_1 (\u001b[38;5;33mMaxPooling2D\u001b[0m)       │ (\u001b[38;5;45mNone\u001b[0m, \u001b[38;5;34m7\u001b[0m, \u001b[38;5;34m7\u001b[0m, \u001b[38;5;34m64\u001b[0m)            │               \u001b[38;5;34m0\u001b[0m │\n├──────────────────────────────────────┼─────────────────────────────┼─────────────────┤\n│ flatten (\u001b[38;5;33mFlatten\u001b[0m)                    │ (\u001b[38;5;45mNone\u001b[0m, \u001b[38;5;34m3136\u001b[0m)                │               \u001b[38;5;34m0\u001b[0m │\n├──────────────────────────────────────┼─────────────────────────────┼─────────────────┤\n│ dense (\u001b[38;5;33mDense\u001b[0m)                        │ (\u001b[38;5;45mNone\u001b[0m, \u001b[38;5;34m128\u001b[0m)                 │         \u001b[38;5;34m401,536\u001b[0m │\n├──────────────────────────────────────┼─────────────────────────────┼─────────────────┤\n│ dropout (\u001b[38;5;33mDropout\u001b[0m)                    │ (\u001b[38;5;45mNone\u001b[0m, \u001b[38;5;34m128\u001b[0m)                 │               \u001b[38;5;34m0\u001b[0m │\n├──────────────────────────────────────┼─────────────────────────────┼─────────────────┤\n│ dense_1 (\u001b[38;5;33mDense\u001b[0m)                      │ (\u001b[38;5;45mNone\u001b[0m, \u001b[38;5;34m62\u001b[0m)                  │           \u001b[38;5;34m7,998\u001b[0m │\n└──────────────────────────────────────┴─────────────────────────────┴─────────────────┘\n",
            "text/html": "<pre style=\"white-space:pre;overflow-x:auto;line-height:normal;font-family:Menlo,'DejaVu Sans Mono',consolas,'Courier New',monospace\">┏━━━━━━━━━━━━━━━━━━━━━━━━━━━━━━━━━━━━━━┳━━━━━━━━━━━━━━━━━━━━━━━━━━━━━┳━━━━━━━━━━━━━━━━━┓\n┃<span style=\"font-weight: bold\"> Layer (type)                         </span>┃<span style=\"font-weight: bold\"> Output Shape                </span>┃<span style=\"font-weight: bold\">         Param # </span>┃\n┡━━━━━━━━━━━━━━━━━━━━━━━━━━━━━━━━━━━━━━╇━━━━━━━━━━━━━━━━━━━━━━━━━━━━━╇━━━━━━━━━━━━━━━━━┩\n│ conv2d (<span style=\"color: #0087ff; text-decoration-color: #0087ff\">Conv2D</span>)                      │ (<span style=\"color: #00d7ff; text-decoration-color: #00d7ff\">None</span>, <span style=\"color: #00af00; text-decoration-color: #00af00\">28</span>, <span style=\"color: #00af00; text-decoration-color: #00af00\">28</span>, <span style=\"color: #00af00; text-decoration-color: #00af00\">128</span>)         │           <span style=\"color: #00af00; text-decoration-color: #00af00\">3,328</span> │\n├──────────────────────────────────────┼─────────────────────────────┼─────────────────┤\n│ max_pooling2d (<span style=\"color: #0087ff; text-decoration-color: #0087ff\">MaxPooling2D</span>)         │ (<span style=\"color: #00d7ff; text-decoration-color: #00d7ff\">None</span>, <span style=\"color: #00af00; text-decoration-color: #00af00\">14</span>, <span style=\"color: #00af00; text-decoration-color: #00af00\">14</span>, <span style=\"color: #00af00; text-decoration-color: #00af00\">128</span>)         │               <span style=\"color: #00af00; text-decoration-color: #00af00\">0</span> │\n├──────────────────────────────────────┼─────────────────────────────┼─────────────────┤\n│ conv2d_1 (<span style=\"color: #0087ff; text-decoration-color: #0087ff\">Conv2D</span>)                    │ (<span style=\"color: #00d7ff; text-decoration-color: #00d7ff\">None</span>, <span style=\"color: #00af00; text-decoration-color: #00af00\">14</span>, <span style=\"color: #00af00; text-decoration-color: #00af00\">14</span>, <span style=\"color: #00af00; text-decoration-color: #00af00\">64</span>)          │          <span style=\"color: #00af00; text-decoration-color: #00af00\">73,792</span> │\n├──────────────────────────────────────┼─────────────────────────────┼─────────────────┤\n│ max_pooling2d_1 (<span style=\"color: #0087ff; text-decoration-color: #0087ff\">MaxPooling2D</span>)       │ (<span style=\"color: #00d7ff; text-decoration-color: #00d7ff\">None</span>, <span style=\"color: #00af00; text-decoration-color: #00af00\">7</span>, <span style=\"color: #00af00; text-decoration-color: #00af00\">7</span>, <span style=\"color: #00af00; text-decoration-color: #00af00\">64</span>)            │               <span style=\"color: #00af00; text-decoration-color: #00af00\">0</span> │\n├──────────────────────────────────────┼─────────────────────────────┼─────────────────┤\n│ flatten (<span style=\"color: #0087ff; text-decoration-color: #0087ff\">Flatten</span>)                    │ (<span style=\"color: #00d7ff; text-decoration-color: #00d7ff\">None</span>, <span style=\"color: #00af00; text-decoration-color: #00af00\">3136</span>)                │               <span style=\"color: #00af00; text-decoration-color: #00af00\">0</span> │\n├──────────────────────────────────────┼─────────────────────────────┼─────────────────┤\n│ dense (<span style=\"color: #0087ff; text-decoration-color: #0087ff\">Dense</span>)                        │ (<span style=\"color: #00d7ff; text-decoration-color: #00d7ff\">None</span>, <span style=\"color: #00af00; text-decoration-color: #00af00\">128</span>)                 │         <span style=\"color: #00af00; text-decoration-color: #00af00\">401,536</span> │\n├──────────────────────────────────────┼─────────────────────────────┼─────────────────┤\n│ dropout (<span style=\"color: #0087ff; text-decoration-color: #0087ff\">Dropout</span>)                    │ (<span style=\"color: #00d7ff; text-decoration-color: #00d7ff\">None</span>, <span style=\"color: #00af00; text-decoration-color: #00af00\">128</span>)                 │               <span style=\"color: #00af00; text-decoration-color: #00af00\">0</span> │\n├──────────────────────────────────────┼─────────────────────────────┼─────────────────┤\n│ dense_1 (<span style=\"color: #0087ff; text-decoration-color: #0087ff\">Dense</span>)                      │ (<span style=\"color: #00d7ff; text-decoration-color: #00d7ff\">None</span>, <span style=\"color: #00af00; text-decoration-color: #00af00\">62</span>)                  │           <span style=\"color: #00af00; text-decoration-color: #00af00\">7,998</span> │\n└──────────────────────────────────────┴─────────────────────────────┴─────────────────┘\n</pre>\n"
          },
          "metadata": {}
        },
        {
          "output_type": "display_data",
          "data": {
            "text/plain": "\u001b[1m Total params: \u001b[0m\u001b[38;5;34m486,654\u001b[0m (1.86 MB)\n",
            "text/html": "<pre style=\"white-space:pre;overflow-x:auto;line-height:normal;font-family:Menlo,'DejaVu Sans Mono',consolas,'Courier New',monospace\"><span style=\"font-weight: bold\"> Total params: </span><span style=\"color: #00af00; text-decoration-color: #00af00\">486,654</span> (1.86 MB)\n</pre>\n"
          },
          "metadata": {}
        },
        {
          "output_type": "display_data",
          "data": {
            "text/plain": "\u001b[1m Trainable params: \u001b[0m\u001b[38;5;34m486,654\u001b[0m (1.86 MB)\n",
            "text/html": "<pre style=\"white-space:pre;overflow-x:auto;line-height:normal;font-family:Menlo,'DejaVu Sans Mono',consolas,'Courier New',monospace\"><span style=\"font-weight: bold\"> Trainable params: </span><span style=\"color: #00af00; text-decoration-color: #00af00\">486,654</span> (1.86 MB)\n</pre>\n"
          },
          "metadata": {}
        },
        {
          "output_type": "display_data",
          "data": {
            "text/plain": "\u001b[1m Non-trainable params: \u001b[0m\u001b[38;5;34m0\u001b[0m (0.00 B)\n",
            "text/html": "<pre style=\"white-space:pre;overflow-x:auto;line-height:normal;font-family:Menlo,'DejaVu Sans Mono',consolas,'Courier New',monospace\"><span style=\"font-weight: bold\"> Non-trainable params: </span><span style=\"color: #00af00; text-decoration-color: #00af00\">0</span> (0.00 B)\n</pre>\n"
          },
          "metadata": {}
        }
      ],
      "execution_count": null
    },
    {
      "cell_type": "code",
      "source": [
        "model.compile(optimizer='adam',\n",
        "              loss=tf.keras.losses.SparseCategoricalCrossentropy(from_logits=True),\n",
        "              metrics=['accuracy'])"
      ],
      "metadata": {
        "trusted": true,
        "execution": {
          "iopub.status.busy": "2025-01-20T12:48:41.155413Z",
          "iopub.execute_input": "2025-01-20T12:48:41.155752Z",
          "iopub.status.idle": "2025-01-20T12:48:41.169149Z",
          "shell.execute_reply.started": "2025-01-20T12:48:41.155718Z",
          "shell.execute_reply": "2025-01-20T12:48:41.168312Z"
        },
        "id": "K81imcJ7Dhmf"
      },
      "outputs": [],
      "execution_count": null
    },
    {
      "cell_type": "code",
      "source": [
        "epochs=10\n",
        "history = model.fit(\n",
        "  train_dataset,\n",
        "  validation_data=test_dataset,\n",
        "  epochs=epochs\n",
        ")"
      ],
      "metadata": {
        "trusted": true,
        "execution": {
          "iopub.status.busy": "2025-01-20T12:48:41.169877Z",
          "iopub.execute_input": "2025-01-20T12:48:41.170124Z",
          "iopub.status.idle": "2025-01-20T13:00:19.32082Z",
          "shell.execute_reply.started": "2025-01-20T12:48:41.170103Z",
          "shell.execute_reply": "2025-01-20T13:00:19.320071Z"
        },
        "id": "6SMP7aMrDhmf",
        "outputId": "baaa4a73-5d69-42d2-8318-038175b52417"
      },
      "outputs": [
        {
          "name": "stdout",
          "text": "Epoch 1/10\n",
          "output_type": "stream"
        },
        {
          "name": "stderr",
          "text": "/usr/local/lib/python3.10/dist-packages/keras/src/backend/tensorflow/nn.py:635: UserWarning: \"`sparse_categorical_crossentropy` received `from_logits=True`, but the `output` argument was produced by a Softmax activation and thus does not represent logits. Was this intended?\n  output, from_logits = _get_logits(\n",
          "output_type": "stream"
        },
        {
          "name": "stdout",
          "text": "\u001b[1m21811/21811\u001b[0m \u001b[32m━━━━━━━━━━━━━━━━━━━━\u001b[0m\u001b[37m\u001b[0m \u001b[1m81s\u001b[0m 3ms/step - accuracy: 0.7439 - loss: 0.8570 - val_accuracy: 0.1164 - val_loss: 10.5965\nEpoch 2/10\n\u001b[1m21811/21811\u001b[0m \u001b[32m━━━━━━━━━━━━━━━━━━━━\u001b[0m\u001b[37m\u001b[0m \u001b[1m69s\u001b[0m 3ms/step - accuracy: 0.8332 - loss: 0.4913 - val_accuracy: 0.1078 - val_loss: 10.8020\nEpoch 3/10\n\u001b[1m21811/21811\u001b[0m \u001b[32m━━━━━━━━━━━━━━━━━━━━\u001b[0m\u001b[37m\u001b[0m \u001b[1m69s\u001b[0m 3ms/step - accuracy: 0.8423 - loss: 0.4597 - val_accuracy: 0.1216 - val_loss: 11.6887\nEpoch 4/10\n\u001b[1m21811/21811\u001b[0m \u001b[32m━━━━━━━━━━━━━━━━━━━━\u001b[0m\u001b[37m\u001b[0m \u001b[1m68s\u001b[0m 3ms/step - accuracy: 0.8458 - loss: 0.4466 - val_accuracy: 0.1211 - val_loss: 12.3178\nEpoch 5/10\n\u001b[1m21811/21811\u001b[0m \u001b[32m━━━━━━━━━━━━━━━━━━━━\u001b[0m\u001b[37m\u001b[0m \u001b[1m69s\u001b[0m 3ms/step - accuracy: 0.8476 - loss: 0.4400 - val_accuracy: 0.1203 - val_loss: 12.6837\nEpoch 6/10\n\u001b[1m21811/21811\u001b[0m \u001b[32m━━━━━━━━━━━━━━━━━━━━\u001b[0m\u001b[37m\u001b[0m \u001b[1m68s\u001b[0m 3ms/step - accuracy: 0.8485 - loss: 0.4367 - val_accuracy: 0.1125 - val_loss: 12.5472\nEpoch 7/10\n\u001b[1m21811/21811\u001b[0m \u001b[32m━━━━━━━━━━━━━━━━━━━━\u001b[0m\u001b[37m\u001b[0m \u001b[1m69s\u001b[0m 3ms/step - accuracy: 0.8497 - loss: 0.4340 - val_accuracy: 0.1132 - val_loss: 12.8190\nEpoch 8/10\n\u001b[1m21811/21811\u001b[0m \u001b[32m━━━━━━━━━━━━━━━━━━━━\u001b[0m\u001b[37m\u001b[0m \u001b[1m68s\u001b[0m 3ms/step - accuracy: 0.8496 - loss: 0.4351 - val_accuracy: 0.1181 - val_loss: 13.6067\nEpoch 9/10\n\u001b[1m21811/21811\u001b[0m \u001b[32m━━━━━━━━━━━━━━━━━━━━\u001b[0m\u001b[37m\u001b[0m \u001b[1m68s\u001b[0m 3ms/step - accuracy: 0.8494 - loss: 0.4352 - val_accuracy: 0.1187 - val_loss: 13.0105\nEpoch 10/10\n\u001b[1m21811/21811\u001b[0m \u001b[32m━━━━━━━━━━━━━━━━━━━━\u001b[0m\u001b[37m\u001b[0m \u001b[1m68s\u001b[0m 3ms/step - accuracy: 0.8500 - loss: 0.4332 - val_accuracy: 0.1207 - val_loss: 12.3634\n",
          "output_type": "stream"
        }
      ],
      "execution_count": null
    },
    {
      "cell_type": "code",
      "source": [
        "import visualkeras\n",
        "from IPython.display import Image, display\n",
        "\n",
        "# Create the layered view and save it as an image\n",
        "visualkeras.layered_view(model,legend=True).save(\"model_visual.png\")\n",
        "\n",
        "# Display the image in the Jupyter notebook\n",
        "display(Image(\"model_visual.png\"))\n"
      ],
      "metadata": {
        "trusted": true,
        "execution": {
          "iopub.status.busy": "2025-01-20T11:44:53.043602Z",
          "iopub.execute_input": "2025-01-20T11:44:53.043948Z",
          "iopub.status.idle": "2025-01-20T11:44:53.11577Z",
          "shell.execute_reply.started": "2025-01-20T11:44:53.043915Z",
          "shell.execute_reply": "2025-01-20T11:44:53.115012Z"
        },
        "id": "zuViKsmSDhmg",
        "outputId": "e0f05c07-d602-46c7-b2ff-fe97766ff2d6"
      },
      "outputs": [
        {
          "name": "stderr",
          "text": "/usr/local/lib/python3.10/dist-packages/visualkeras/layered.py:86: UserWarning: The legend_text_spacing_offset parameter is deprecated and will be removed in a future release.\n  warnings.warn(\"The legend_text_spacing_offset parameter is deprecated and will be removed in a future release.\")\n",
          "output_type": "stream"
        },
        {
          "output_type": "display_data",
          "data": {
            "image/png": "[encoded data removed]",
            "text/plain": "<IPython.core.display.Image object>"
          },
          "metadata": {}
        }
      ],
      "execution_count": null
    },
    {
      "cell_type": "code",
      "source": [
        "acc = history.history['accuracy']\n",
        "val_acc = history.history['val_accuracy']\n",
        "\n",
        "loss = history.history['loss']\n",
        "val_loss = history.history['val_loss']\n",
        "\n",
        "epochs_range = range(epochs)\n",
        "\n",
        "plt.figure(figsize=(8, 8))\n",
        "plt.subplot(1, 2, 1)\n",
        "plt.plot(epochs_range, acc, label='Training Accuracy')\n",
        "plt.plot(epochs_range, val_acc, label='Validation Accuracy')\n",
        "plt.legend(loc='lower right')\n",
        "plt.title('Training and Validation Accuracy')\n",
        "\n",
        "plt.subplot(1, 2, 2)\n",
        "plt.plot(epochs_range, loss, label='Training Loss')\n",
        "plt.plot(epochs_range, val_loss, label='Validation Loss')\n",
        "plt.legend(loc='upper right')\n",
        "plt.title('Training and Validation Loss')\n",
        "plt.show()"
      ],
      "metadata": {
        "trusted": true,
        "execution": {
          "iopub.status.busy": "2025-01-20T13:01:48.899318Z",
          "iopub.execute_input": "2025-01-20T13:01:48.899616Z",
          "iopub.status.idle": "2025-01-20T13:01:49.214193Z",
          "shell.execute_reply.started": "2025-01-20T13:01:48.899594Z",
          "shell.execute_reply": "2025-01-20T13:01:49.213336Z"
        },
        "id": "ndo6P5Y8Dhmg",
        "outputId": "bed2590a-399a-406a-f14b-1ced97d732c0"
      },
      "outputs": [
        {
          "output_type": "display_data",
          "data": {
            "text/plain": "<Figure size 800x800 with 2 Axes>",
            "image/png": "[encoded data removed]"
          },
          "metadata": {}
        }
      ],
      "execution_count": null
    },
    {
      "cell_type": "code",
      "source": [
        "img_path=\"/kaggle/input/prediction-data/letter-g.png\"\n",
        "\n",
        "img = tf.keras.utils.load_img(\n",
        "    img_path, target_size=(28, 28)\n",
        ")\n",
        "\n",
        "img_array = tf.keras.utils.img_to_array(img)\n",
        "img_array = tf.expand_dims(img_array, 0)\n",
        "grayscale_image = tf.image.rgb_to_grayscale(img_array)\n",
        "\n",
        "print(\"Image shape after preprocessing:\", grayscale_image.shape)\n",
        "\n",
        "predictions = model.predict(grayscale_image)\n",
        "print(\"Predictions:\", predictions)\n",
        "\n",
        "score = tf.nn.softmax(predictions[0])\n",
        "predicted_class = tf.argmax(score)\n",
        "print(\n",
        "    f\"This image most likely belongs to class {predicted_class.numpy()} \"\n",
        "    f\"with a confidence of {100 * tf.reduce_max(score).numpy():.2f}%.\"\n",
        ")"
      ],
      "metadata": {
        "trusted": true,
        "execution": {
          "iopub.status.busy": "2025-01-20T14:02:34.430628Z",
          "iopub.execute_input": "2025-01-20T14:02:34.430976Z",
          "iopub.status.idle": "2025-01-20T14:02:34.499894Z",
          "shell.execute_reply.started": "2025-01-20T14:02:34.43095Z",
          "shell.execute_reply": "2025-01-20T14:02:34.499224Z"
        },
        "id": "34VLK93GDhmg",
        "outputId": "18c6a8a9-da09-4e41-8dd7-7952b0feaf63"
      },
      "outputs": [
        {
          "name": "stdout",
          "text": "Image shape after preprocessing: (1, 28, 28, 1)\n\u001b[1m1/1\u001b[0m \u001b[32m━━━━━━━━━━━━━━━━━━━━\u001b[0m\u001b[37m\u001b[0m \u001b[1m0s\u001b[0m 17ms/step\nPredictions: [[0. 0. 0. 0. 0. 0. 0. 0. 0. 0. 0. 0. 0. 0. 0. 0. 0. 0. 0. 0. 0. 0. 0. 0.\n  0. 0. 0. 0. 0. 0. 0. 0. 0. 0. 0. 0. 0. 0. 0. 0. 0. 0. 1. 0. 0. 0. 0. 0.\n  0. 0. 0. 0. 0. 0. 0. 0. 0. 0. 0. 0. 0. 0.]]\nThis image most likely belongs to class 42 with a confidence of 4.27%.\n",
          "output_type": "stream"
        }
      ],
      "execution_count": null
    },
    {
      "cell_type": "code",
      "source": [
        "row_42 = chr(mapp.iloc[predicted_class.numpy(),0])\n",
        "print(str(row_42))\n"
      ],
      "metadata": {
        "trusted": true,
        "execution": {
          "iopub.status.busy": "2025-01-20T14:02:38.273221Z",
          "iopub.execute_input": "2025-01-20T14:02:38.273508Z",
          "iopub.status.idle": "2025-01-20T14:02:38.278465Z",
          "shell.execute_reply.started": "2025-01-20T14:02:38.273487Z",
          "shell.execute_reply": "2025-01-20T14:02:38.277578Z"
        },
        "id": "0_4xZpCPDhmg",
        "outputId": "a5a8d46e-32ed-4e34-e2c2-a05bbe7ea1de"
      },
      "outputs": [
        {
          "name": "stdout",
          "text": "g\n",
          "output_type": "stream"
        }
      ],
      "execution_count": null
    },
    {
      "cell_type": "code",
      "source": [
        "model.save(\"my_model.h5\")"
      ],
      "metadata": {
        "trusted": true,
        "execution": {
          "iopub.status.busy": "2025-01-20T14:05:00.764855Z",
          "iopub.execute_input": "2025-01-20T14:05:00.765184Z",
          "iopub.status.idle": "2025-01-20T14:05:00.803597Z",
          "shell.execute_reply.started": "2025-01-20T14:05:00.765161Z",
          "shell.execute_reply": "2025-01-20T14:05:00.802966Z"
        },
        "id": "neAXiSKFDhmg"
      },
      "outputs": [],
      "execution_count": null
    }
  ]
}